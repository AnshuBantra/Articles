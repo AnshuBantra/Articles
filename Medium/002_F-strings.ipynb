{
 "cells": [
  {
   "cell_type": "code",
   "execution_count": 1,
   "metadata": {},
   "outputs": [
    {
     "name": "stdout",
     "output_type": "stream",
     "text": [
      "Hello, my name is Somename and I am 45 years old.\n"
     ]
    }
   ],
   "source": [
    "name = \"Somename\"\n",
    "age = 45\n",
    "greeting = f\"Hello, my name is {name} and I am {age} years old.\"\n",
    "print(greeting)"
   ]
  },
  {
   "cell_type": "code",
   "execution_count": 2,
   "metadata": {},
   "outputs": [
    {
     "name": "stdout",
     "output_type": "stream",
     "text": [
      "The area of the rectangle is 15 square units.\n"
     ]
    }
   ],
   "source": [
    "length = 5\n",
    "width = 3\n",
    "area = f\"The area of the rectangle is {length * width} square units.\"\n",
    "print(area)"
   ]
  },
  {
   "cell_type": "code",
   "execution_count": 4,
   "metadata": {},
   "outputs": [
    {
     "name": "stdout",
     "output_type": "stream",
     "text": [
      "123,456.79\n"
     ]
    }
   ],
   "source": [
    "num = 123456.789\n",
    "print(f'{num:3,.2f}')"
   ]
  },
  {
   "cell_type": "code",
   "execution_count": 45,
   "metadata": {},
   "outputs": [
    {
     "name": "stdout",
     "output_type": "stream",
     "text": [
      "Rounded to 2 decimal places: 123456789.46\n",
      "23.50%\n"
     ]
    }
   ],
   "source": [
    "val = 123456789.45678\n",
    "print(f\"Rounded to 2 decimal places: {val:.2f}\")\n",
    "\n",
    "val = 0.235\n",
    "print(f'{val:.2%}')"
   ]
  },
  {
   "cell_type": "code",
   "execution_count": 23,
   "metadata": {},
   "outputs": [
    {
     "name": "stdout",
     "output_type": "stream",
     "text": [
      "Values rounded to 2 decimal places with ',' as 1000's separator\n",
      "Val1 :123,456,789.46\n",
      "Val2 :123.46\n"
     ]
    }
   ],
   "source": [
    "val1 = 123456789.45678\n",
    "val2 = 123.456\n",
    "\n",
    "print(\"Values rounded to 2 decimal places with ',' as 1000's separator\")\n",
    "print(f\"Val1 :{val1:,.2f}\")\n",
    "print(f\"Val2 :{val2:,.2f}\")"
   ]
  },
  {
   "cell_type": "code",
   "execution_count": 24,
   "metadata": {},
   "outputs": [
    {
     "name": "stdout",
     "output_type": "stream",
     "text": [
      "Values rounded to 2 decimal places with ',' as 1000's separator and total width of 15\n",
      "Val1 : 123,456,789.46\n",
      "Val2 :         123.46\n"
     ]
    }
   ],
   "source": [
    "val1 = 123456789.45678\n",
    "val2 = 123.456\n",
    "\n",
    "width = 15\n",
    "precision = 2\n",
    "print(\"Values rounded to 2 decimal places with ',' as 1000's separator and total width of 15\")\n",
    "print(f\"Val1 :{val1:{width},.{precision}f}\")\n",
    "print(f\"Val2 :{val2:{width},.{precision}f}\")"
   ]
  },
  {
   "cell_type": "code",
   "execution_count": 28,
   "metadata": {},
   "outputs": [
    {
     "name": "stdout",
     "output_type": "stream",
     "text": [
      "Padded to 20 characters (Defaults to Left Padding):  123,456,789.46\n",
      "Left-aligned: 123,456,789.46 \n",
      "Left-aligned: 123.46         \n",
      "Right-aligned:  123,456,789.46\n",
      "Right-aligned:          123.46\n",
      "Center-aligned: 123,456,789.46 \n",
      "Center-aligned:     123.46     \n"
     ]
    }
   ],
   "source": [
    "val1 = 123456789.45678\n",
    "val2 = 123.456\n",
    "width = 15\n",
    "precision = 2\n",
    "\n",
    "print(f\"Padded to 20 characters (Defaults to Left Padding): {val1:{width},.{precision}f}\")\n",
    "print(f\"Left-aligned: {val1:<{width},.{precision}f}\")\n",
    "print(f\"Left-aligned: {val2:<{width},.{precision}f}\")\n",
    "print(f\"Right-aligned: {val1:>{width},.{precision}f}\")\n",
    "print(f\"Right-aligned: {val2:>{width},.{precision}f}\")\n",
    "print(f\"Center-aligned: {val1:^{width},.{precision}f}\")\n",
    "print(f\"Center-aligned: {val2:^{width},.{precision}f}\")"
   ]
  },
  {
   "cell_type": "code",
   "execution_count": 29,
   "metadata": {},
   "outputs": [
    {
     "name": "stdout",
     "output_type": "stream",
     "text": [
      "Padded to 20 characters (Defaults to Left Padding):  123,456,789.46\n",
      "Left-aligned: 123,456,789.46.\n",
      "Left-aligned: 123.46.........\n",
      "Right-aligned: .123,456,789.46\n",
      "Right-aligned: .........123.46\n",
      "Center-aligned: 123,456,789.46.\n",
      "Center-aligned: ....123.46.....\n"
     ]
    }
   ],
   "source": [
    "val1 = 123456789.45678\n",
    "val2 = 123.456\n",
    "width = 15\n",
    "precision = 2\n",
    "\n",
    "print(f\"Padded to 20 characters (Defaults to Left Padding): {val1:{width},.{precision}f}\")\n",
    "print(f\"Left-aligned: {val1:.<{width},.{precision}f}\")\n",
    "print(f\"Left-aligned: {val2:.<{width},.{precision}f}\")\n",
    "print(f\"Right-aligned: {val1:.>{width},.{precision}f}\")\n",
    "print(f\"Right-aligned: {val2:.>{width},.{precision}f}\")\n",
    "print(f\"Center-aligned: {val1:.^{width},.{precision}f}\")\n",
    "print(f\"Center-aligned: {val2:.^{width},.{precision}f}\")"
   ]
  },
  {
   "cell_type": "code",
   "execution_count": 30,
   "metadata": {},
   "outputs": [
    {
     "name": "stdout",
     "output_type": "stream",
     "text": [
      "As a decimal: 42\n",
      "As a binary: 101010\n",
      "As a hexadecimal: 2a\n"
     ]
    }
   ],
   "source": [
    "number = 42\n",
    "print(f\"As a decimal: {number:d}\")\n",
    "print(f\"As a binary: {number:b}\")\n",
    "print(f\"As a hexadecimal: {number:x}\")"
   ]
  },
  {
   "cell_type": "code",
   "execution_count": 32,
   "metadata": {},
   "outputs": [
    {
     "name": "stdout",
     "output_type": "stream",
     "text": [
      "Capitalized string: Python\n"
     ]
    }
   ],
   "source": [
    "name = \"python\"\n",
    "print(f\"Capitalized string: {name.capitalize()}\")"
   ]
  },
  {
   "cell_type": "code",
   "execution_count": 33,
   "metadata": {},
   "outputs": [
    {
     "name": "stdout",
     "output_type": "stream",
     "text": [
      "The sum of [1, 2, 3, 4, 5] is 15\n",
      "The number 3 is odd.\n"
     ]
    }
   ],
   "source": [
    "numbers = [1, 2, 3, 4, 5]\n",
    "sum_numbers = sum(numbers)\n",
    "print(f\"The sum of {numbers} is {sum_numbers}\")\n",
    "\n",
    "# Using a conditional expression\n",
    "number = 3\n",
    "msg = f\"The number {number} is {'even' if number % 2 == 0 else 'odd'}.\"\n",
    "print(msg)"
   ]
  },
  {
   "cell_type": "code",
   "execution_count": 42,
   "metadata": {},
   "outputs": [
    {
     "name": "stdout",
     "output_type": "stream",
     "text": [
      "12_345_678.90\n",
      "12,345,678.90\n",
      "12345678.90\n",
      "1234567890.10%\n"
     ]
    }
   ],
   "source": [
    "val = 12345678.901\n",
    "print(f'{val:_.2f}')\n",
    "print(f'{val:,.2f}')\n",
    "print(f'{val:#.2f}')\n",
    "print(f'{val:.2%}')"
   ]
  },
  {
   "cell_type": "code",
   "execution_count": 49,
   "metadata": {},
   "outputs": [
    {
     "name": "stdout",
     "output_type": "stream",
     "text": [
      "As a decimal: 42\n",
      "As a binary: 101010\n",
      "As a hexadecimal: 2a\n",
      "As a percentage: 23.500000%\n"
     ]
    }
   ],
   "source": [
    "number = 42\n",
    "print(f\"As a decimal: {number:d}\")\n",
    "print(f\"As a binary: {number:b}\")\n",
    "print(f\"As a hexadecimal: {number:x}\")\n",
    "\n",
    "number = 0.235\n",
    "print(f\"As a percentage: {number:%}\")\n"
   ]
  },
  {
   "cell_type": "code",
   "execution_count": 50,
   "metadata": {},
   "outputs": [
    {
     "name": "stdout",
     "output_type": "stream",
     "text": [
      "Capitalized string: Python\n"
     ]
    }
   ],
   "source": [
    "text = \"python\"\n",
    "print(f\"Capitalized string: {text.capitalize()}\")"
   ]
  },
  {
   "cell_type": "code",
   "execution_count": 52,
   "metadata": {},
   "outputs": [
    {
     "name": "stdout",
     "output_type": "stream",
     "text": [
      "Sq for these numbers [1, 2, 3, 4, 5] is [1, 4, 9, 16, 25]\n"
     ]
    }
   ],
   "source": [
    "numbers = range(1,6)\n",
    "msg = f'Sqs for these numbers {list(numbers)} is {[num**2 for num in numbers]}'\n",
    "print(msg)"
   ]
  },
  {
   "cell_type": "code",
   "execution_count": 57,
   "metadata": {},
   "outputs": [
    {
     "name": "stdout",
     "output_type": "stream",
     "text": [
      "The sum of [1, 2, 3, 4, 5] is 15\n",
      "The number 3 is odd.\n"
     ]
    },
    {
     "ename": "TypeError",
     "evalue": "unhashable type: 'list'",
     "output_type": "error",
     "traceback": [
      "\u001b[1;31m---------------------------------------------------------------------------\u001b[0m",
      "\u001b[1;31mTypeError\u001b[0m                                 Traceback (most recent call last)",
      "Cell \u001b[1;32mIn[57], line 12\u001b[0m\n\u001b[0;32m     10\u001b[0m \u001b[38;5;66;03m# Using a list comprehension\u001b[39;00m\n\u001b[0;32m     11\u001b[0m msg \u001b[38;5;241m=\u001b[39m \u001b[38;5;124mf\u001b[39m\u001b[38;5;124m'\u001b[39m\u001b[38;5;124mList of \u001b[39m\u001b[38;5;132;01m{\u001b[39;00m\u001b[38;5;28mlist\u001b[39m(numbers)\u001b[38;5;132;01m}\u001b[39;00m\u001b[38;5;124m becomes \u001b[39m\u001b[38;5;132;01m{\u001b[39;00m[num\u001b[38;5;241m*\u001b[39m\u001b[38;5;241m*\u001b[39m\u001b[38;5;241m2\u001b[39m\u001b[38;5;250m \u001b[39m\u001b[38;5;28;01mfor\u001b[39;00m\u001b[38;5;250m \u001b[39mnum\u001b[38;5;250m \u001b[39m\u001b[38;5;129;01min\u001b[39;00m\u001b[38;5;250m \u001b[39mnumbers]\u001b[38;5;132;01m}\u001b[39;00m\u001b[38;5;124m after squaring each number\u001b[39m\u001b[38;5;124m'\u001b[39m\n\u001b[1;32m---> 12\u001b[0m msg1 \u001b[38;5;241m=\u001b[39m \u001b[38;5;124m'\u001b[39m\u001b[38;5;124mList of \u001b[39m\u001b[38;5;124m'\u001b[39m \u001b[38;5;241m+\u001b[39m {\u001b[38;5;28mlist\u001b[39m(numbers)} \u001b[38;5;241m+\u001b[39m \u001b[38;5;124m'\u001b[39m\u001b[38;5;124mbecomes\u001b[39m\u001b[38;5;124m'\u001b[39m\n\u001b[0;32m     13\u001b[0m \u001b[38;5;28mprint\u001b[39m(msg)\n",
      "\u001b[1;31mTypeError\u001b[0m: unhashable type: 'list'"
     ]
    }
   ],
   "source": [
    "numbers = [1, 2, 3, 4, 5]\n",
    "sum_numbers = sum(numbers)\n",
    "print(f\"The sum of {numbers} is {sum_numbers}\")\n",
    "\n",
    "# Using a conditional expression\n",
    "number = 3\n",
    "msg = f\"The number {number} is {'even' if number % 2 == 0 else 'odd'}.\"\n",
    "print(msg)\n",
    "\n",
    "# Using a list comprehension\n",
    "msg = f'List of {list(numbers)} becomes {[num**2 for num in numbers]} after squaring each number'\n",
    "msg1 = 'List of ' + {list(numbers)} + 'becomes'\n",
    "print(msg)"
   ]
  },
  {
   "cell_type": "code",
   "execution_count": 55,
   "metadata": {},
   "outputs": [
    {
     "name": "stdout",
     "output_type": "stream",
     "text": [
      "Rounded to 2 decimal places: 123456789.46\n",
      "Rounded to 2 decimal places: 1.2e+08\n"
     ]
    }
   ],
   "source": [
    "val = 123456789.45678\n",
    "print(f\"Rounded to 2 decimal places: {val:.2f}\")\n",
    "print(f\"Rounded to 2 decimal places: {val:.2}\")"
   ]
  },
  {
   "cell_type": "code",
   "execution_count": 56,
   "metadata": {},
   "outputs": [
    {
     "name": "stdout",
     "output_type": "stream",
     "text": [
      "As a decimal: 42\n",
      "As a float: 42.000000\n",
      "As a binary: 101010\n",
      "As a hexadecimal: 2a\n",
      "As a percentage: 23.50%\n"
     ]
    }
   ],
   "source": [
    "number = 42\n",
    "print(f\"As a decimal: {number:d}\")\n",
    "print(f\"As a float: {number:f}\")\n",
    "print(f\"As a binary: {number:b}\")\n",
    "print(f\"As a hexadecimal: {number:x}\")\n",
    "\n",
    "number = 0.235\n",
    "print(f\"As a percentage: {number:.2%}\")"
   ]
  },
  {
   "cell_type": "code",
   "execution_count": 58,
   "metadata": {},
   "outputs": [
    {
     "name": "stdout",
     "output_type": "stream",
     "text": [
      "Text \u0007\n"
     ]
    }
   ],
   "source": [
    "text: str = 'Text \\a'\n",
    "print(text)"
   ]
  },
  {
   "cell_type": "code",
   "execution_count": null,
   "metadata": {},
   "outputs": [],
   "source": []
  }
 ],
 "metadata": {
  "kernelspec": {
   "display_name": "Python 3",
   "language": "python",
   "name": "python3"
  },
  "language_info": {
   "codemirror_mode": {
    "name": "ipython",
    "version": 3
   },
   "file_extension": ".py",
   "mimetype": "text/x-python",
   "name": "python",
   "nbconvert_exporter": "python",
   "pygments_lexer": "ipython3",
   "version": "3.11.5"
  }
 },
 "nbformat": 4,
 "nbformat_minor": 2
}
