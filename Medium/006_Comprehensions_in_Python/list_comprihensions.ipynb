{
 "cells": [
  {
   "cell_type": "markdown",
   "metadata": {},
   "source": [
    "# Comprehensions in Python"
   ]
  },
  {
   "cell_type": "markdown",
   "metadata": {},
   "source": [
    "In Python, comprehension is a concise and expressive way to create data structures like lists, dictionaries, and sets using a single line of code. It allows you to construct these data structures by specifying the elements and conditions in a compact syntax usually using a single line of code, rather than using traditional loops and append operations. Comprehensions make your code shorter and often more readable, and is referred to as a more `Pythonic` way of writing code.\n",
    "\n",
    "Python emphasizes on readability & simplicity, and comprehensions are considered a `Pythonic` way to construct lists, dictionaries, and sets. They are idiomatic to the language and widely used in Python codebases. Comprehensions align with the guidelines outlined in PEP 20, also known as the Zen of Python. PEP 20 provides a set of guiding principles for writing Python code. Specifically, comprehensions adhere to several principles from the Zen of Python:\n",
    "\n",
    "1. **Readability counts**: Comprehensions offer a more concise and readable way to create data structures compared to traditional loops. They allow you to express the construction of lists, dictionaries, and sets in a single line of code, enhancing readability and making the intention of the code clearer.\n",
    "\n",
    "2. **Simple is better than complex**: Comprehensions provide a simple and expressive way to create data structures, promoting clarity and simplicity in code.\n",
    "\n",
    "3. **Sparse is better than dense**: Comprehensions allow for the creation of data structures with minimal syntactic overhead, leading to more readable and less dense code.\n",
    "\n",
    "While PEP 20 does not explicitly mention comprehensions, their alignment with these principles demonstrates their compatibility with the broader Python philosophy of simplicity, readability, and elegance. However, with `Python 3.12`, more changes are being introduced to which will make the use of 'Comprehensions' upto 2x more efficient, as per the [PEP 709](https://peps.python.org/pep-0709/), documentation"
   ]
  },
  {
   "cell_type": "markdown",
   "metadata": {},
   "source": [
    "Apart from the above reasons which make use of Comprehensions more Pythonic. Comprehensions are also generally preferred in Python for the following reasons:\n",
    "\n",
    "1. **Efficiency**: Comprehensions are often more efficient than equivalent loop-based approaches. They are optimized internally by the Python interpreter and are generally faster in execution.\n",
    "\n",
    "2. **Expressiveness**: Comprehensions allow you to express complex operations in a compact and expressive manner. This can lead to more elegant and maintainable code."
   ]
  },
  {
   "cell_type": "markdown",
   "metadata": {},
   "source": [
    "In Python, there are mainly three types of comprehensions:\n",
    "\n",
    "1. **List Comprehensions**: These are used to create lists. List comprehensions provide a concise way to create lists by iterating over an iterable object and applying an expression to each element. The basic syntax was explained earlier.\n",
    "\n",
    "    ```python\n",
    "    {item for item in iterable}\n",
    "    ```\n",
    "\n",
    "2. **Dictionary Comprehensions**: Similar to list comprehensions, dictionary comprehensions allow you to create dictionaries. They use a similar syntax but produce dictionaries instead of lists. The basic syntax is:\n",
    "\n",
    "    ```python\n",
    "    {key_expression: value_expression for item in iterable}\n",
    "    ```\n",
    "\n",
    "3. **Set Comprehensions**: Set comprehensions are used to create sets. They follow a similar syntax to list comprehensions, but instead of square brackets, they use curly braces. Set comprehensions automatically remove duplicate elements from the resulting set. The basic syntax is:\n",
    "\n",
    "    ```python\n",
    "    {expression for item in iterable if condition}\n",
    "    ```\n",
    "\n",
    "For example, consider the following comprehensions:\n",
    "\n",
    "List comprehension:\n",
    "```python\n",
    "squares = [x**2 for x in range(1, 6)]\n",
    "```\n",
    "\n",
    "Dictionary comprehension:\n",
    "```python\n",
    "squares_dict = {x: x**2 for x in range(1, 6)}\n",
    "```\n",
    "\n",
    "Set comprehension:\n",
    "```python\n",
    "squares_set = {x**2 for x in range(1, 6)}\n",
    "```\n",
    "\n",
    "Each of these comprehensions generates a different type of collection (list, dictionary, or set) based on the specified expression and conditions."
   ]
  },
  {
   "cell_type": "markdown",
   "metadata": {},
   "source": [
    "# List Comprehensions"
   ]
  },
  {
   "cell_type": "markdown",
   "metadata": {},
   "source": [
    "The basic syntax of list comprehension is:\n",
    "```Python\n",
    "[expression for item in iterable]\n",
    "```\n",
    "Where:\n",
    "\n",
    "- 'expression': is the operation or value to be computed for each element.\n",
    "- 'item':       is the variable representing each element in the iterable.\n",
    "- 'iterable':   is any Python iterable object like a list, tuple, string, etc."
   ]
  },
  {
   "cell_type": "code",
   "execution_count": 5,
   "metadata": {},
   "outputs": [
    {
     "name": "stdout",
     "output_type": "stream",
     "text": [
      "[2, 4, 6, 8, 10, 12, 14, 16, 18, 20]\n"
     ]
    }
   ],
   "source": [
    "# Code using loop to create a list of first 10 even numbers\n",
    "even_nums = []\n",
    "for x in range(2, 21, 2):\n",
    "  even_nums.append(x)\n",
    "print(even_nums)"
   ]
  },
  {
   "cell_type": "code",
   "execution_count": 6,
   "metadata": {},
   "outputs": [
    {
     "name": "stdout",
     "output_type": "stream",
     "text": [
      "[2, 4, 6, 8, 10, 12, 14, 16, 18, 20]\n"
     ]
    }
   ],
   "source": [
    "# List comprehension equivalent for creation a list of first 10 even numbers\n",
    "even_nums = [x for x in range(2, 21, 2)]\n",
    "print(even_nums)"
   ]
  },
  {
   "cell_type": "code",
   "execution_count": 7,
   "metadata": {},
   "outputs": [
    {
     "name": "stdout",
     "output_type": "stream",
     "text": [
      "[4, 16, 36, 64, 100, 144, 196, 256, 324, 400]\n"
     ]
    }
   ],
   "source": [
    "# Code using loop to create squares of a list of numbers (I'll use list even_nums)\n",
    "squares = []\n",
    "for x in even_nums:\n",
    "  squares.append(x**2)\n",
    "print(squares)"
   ]
  },
  {
   "cell_type": "code",
   "execution_count": 8,
   "metadata": {},
   "outputs": [
    {
     "name": "stdout",
     "output_type": "stream",
     "text": [
      "[4, 16, 36, 64, 100, 144, 196, 256, 324, 400]\n"
     ]
    }
   ],
   "source": [
    "# List Comprehension equivalent for calculating squares\n",
    "squares = [x**2 for x in even_nums]\n",
    "print(squares)"
   ]
  },
  {
   "cell_type": "markdown",
   "metadata": {},
   "source": [
    "Syntax of list comprehension with if condition:\n",
    "```Python\n",
    "[expression for item in iterable if condition]\n",
    "```\n",
    "Where:\n",
    "\n",
    "- 'expression': is the operation or value to be computed for each element.\n",
    "- 'item': is the variable representing each element in the iterable.\n",
    "- 'iterable': is any Python iterable object like a list, tuple, string, etc.\n",
    "- 'condition': This is an optional expression that can be used to filter items."
   ]
  },
  {
   "cell_type": "code",
   "execution_count": 14,
   "metadata": {},
   "outputs": [
    {
     "name": "stdout",
     "output_type": "stream",
     "text": [
      "[3, 6, 9, 12, 15, 18, 21, 24, 27, 30]\n"
     ]
    }
   ],
   "source": [
    "# Code using loop to generate list of numbers divisible by 3\n",
    "num_lst = list(range(1, 31))\n",
    "div_by_3 = []\n",
    "for x in num_lst:\n",
    "  if x%3 == 0:\n",
    "    div_by_3.append(x)\n",
    "print(div_by_3)"
   ]
  },
  {
   "cell_type": "code",
   "execution_count": 15,
   "metadata": {},
   "outputs": [
    {
     "name": "stdout",
     "output_type": "stream",
     "text": [
      "[3, 6, 9, 12, 15, 18, 21, 24, 27, 30]\n"
     ]
    }
   ],
   "source": [
    "# List Comprehension equivalent to generate list of numbers divisible by 3\n",
    "div_by_3 = [x for x in num_lst if x%3==0]\n",
    "print(div_by_3)"
   ]
  },
  {
   "cell_type": "markdown",
   "metadata": {},
   "source": [
    "Syntax of list comprehension with if else condition:\n",
    "```Python\n",
    "[expression if condition else alt_value for item in iterable]\n",
    "```"
   ]
  },
  {
   "cell_type": "code",
   "execution_count": 8,
   "metadata": {},
   "outputs": [
    {
     "name": "stdout",
     "output_type": "stream",
     "text": [
      "[{1: 'odd'}, {2: 'even'}, {3: 'odd'}, {4: 'even'}, {5: 'odd'}, {6: 'even'}, {7: 'odd'}, {8: 'even'}, {9: 'odd'}]\n"
     ]
    }
   ],
   "source": [
    "# Code using loop to generate list odd & even numbers\n",
    "num_lst = list(range(1, 10))\n",
    "odd_even = []\n",
    "for x in num_lst:\n",
    "  if x%2 == 0:\n",
    "    odd_even.append({x:'even'})\n",
    "  else:\n",
    "    odd_even.append({x:'odd'})\n",
    "print(odd_even)"
   ]
  },
  {
   "cell_type": "code",
   "execution_count": 9,
   "metadata": {},
   "outputs": [
    {
     "name": "stdout",
     "output_type": "stream",
     "text": [
      "[{1: 'odd'}, {2: 'even'}, {3: 'odd'}, {4: 'even'}, {5: 'odd'}, {6: 'even'}, {7: 'odd'}, {8: 'even'}, {9: 'odd'}]\n"
     ]
    }
   ],
   "source": [
    "odd_even = [{x:'even'} if x%2==0 else {x:'odd'} for x in num_lst]\n",
    "print(odd_even)"
   ]
  },
  {
   "cell_type": "code",
   "execution_count": 12,
   "metadata": {},
   "outputs": [
    {
     "name": "stdout",
     "output_type": "stream",
     "text": [
      "[1, 2, 'Fizz', 4, 'Buzz', 'Fizz', 7, 8, 'Fizz', 'Buzz', 11, 'Fizz', 13, 14, 'Fizz-Buzz']\n"
     ]
    }
   ],
   "source": [
    "# Code using loop to generate list for Fizz Buzz Challenge (https://en.wikipedia.org/wiki/Fizz_buzz)\n",
    "num_lst = range(1, 16)\n",
    "fizz_buzz = []\n",
    "for x in num_lst:\n",
    "  if x%3 == 0 and x%5 == 0:\n",
    "    fizz_buzz.append('Fizz-Buzz')\n",
    "  elif x%3 == 0:\n",
    "    fizz_buzz.append('Fizz')\n",
    "  elif x%5 == 0:\n",
    "    fizz_buzz.append('Buzz')\n",
    "  else:\n",
    "    fizz_buzz.append(x)\n",
    "print(fizz_buzz)"
   ]
  },
  {
   "cell_type": "code",
   "execution_count": 13,
   "metadata": {},
   "outputs": [
    {
     "name": "stdout",
     "output_type": "stream",
     "text": [
      "[1, 2, 'Fizz', 4, 'Buzz', 'Fizz', 7, 8, 'Fizz', 'Buzz', 11, 'Fizz', 13, 14, 'Fizz-Buzz']\n"
     ]
    }
   ],
   "source": [
    "# List Comprehension equivalent to generate list for Fizz Buzz Challenge\n",
    "fizz_buzz = ['Fizz-Buzz' if (x%3==0 and x%5==0)\n",
    "              else 'Fizz' if x%3==0\n",
    "              else 'Buzz' if x%5==0\n",
    "              else x\n",
    "              for x in num_lst\n",
    "            ]\n",
    "print(fizz_buzz)"
   ]
  },
  {
   "cell_type": "markdown",
   "metadata": {},
   "source": [
    "However, it's essential to balance the use of comprehensions with readability. While they can make code more concise, overly complex comprehensions can sometimes reduce readability. It's important to strike a balance between readability and conciseness when using comprehensions in Python code."
   ]
  },
  {
   "cell_type": "markdown",
   "metadata": {},
   "source": []
  },
  {
   "cell_type": "code",
   "execution_count": 2,
   "metadata": {},
   "outputs": [],
   "source": [
    "from typing import TypedDict\n",
    "\n",
    "class Movie(TypedDict):\n",
    "  name: str\n",
    "  year: int"
   ]
  },
  {
   "cell_type": "code",
   "execution_count": 5,
   "metadata": {},
   "outputs": [
    {
     "ename": "TypeError",
     "evalue": "'builtin_function_or_method' object is not subscriptable",
     "output_type": "error",
     "traceback": [
      "\u001b[1;31m---------------------------------------------------------------------------\u001b[0m",
      "\u001b[1;31mTypeError\u001b[0m                                 Traceback (most recent call last)",
      "Input \u001b[1;32mIn [5]\u001b[0m, in \u001b[0;36m<cell line: 3>\u001b[1;34m()\u001b[0m\n\u001b[0;32m      1\u001b[0m \u001b[38;5;28;01mfrom\u001b[39;00m \u001b[38;5;21;01mstruct\u001b[39;00m \u001b[38;5;28;01mimport\u001b[39;00m unpack\n\u001b[1;32m----> 3\u001b[0m \u001b[38;5;28;01mdef\u001b[39;00m \u001b[38;5;21mprint_movie_info\u001b[39m(\u001b[38;5;241m*\u001b[39m\u001b[38;5;241m*\u001b[39mkwargs: \u001b[43munpack\u001b[49m\u001b[43m[\u001b[49m\u001b[43mMovie\u001b[49m\u001b[43m]\u001b[49m):\n\u001b[0;32m      4\u001b[0m   \u001b[38;5;28mprint\u001b[39m(\u001b[38;5;28mtype\u001b[39m(kwargs))\n\u001b[0;32m      5\u001b[0m   \u001b[38;5;28mprint\u001b[39m(kwargs)\n",
      "\u001b[1;31mTypeError\u001b[0m: 'builtin_function_or_method' object is not subscriptable"
     ]
    }
   ],
   "source": [
    "from struct import unpack\n",
    "\n",
    "def print_movie_info(**kwargs: unpack[Movie]):\n",
    "  print(type(kwargs))\n",
    "  print(kwargs)"
   ]
  },
  {
   "cell_type": "code",
   "execution_count": null,
   "metadata": {},
   "outputs": [],
   "source": []
  }
 ],
 "metadata": {
  "kernelspec": {
   "display_name": "env",
   "language": "python",
   "name": "python3"
  },
  "language_info": {
   "codemirror_mode": {
    "name": "ipython",
    "version": 3
   },
   "file_extension": ".py",
   "mimetype": "text/x-python",
   "name": "python",
   "nbconvert_exporter": "python",
   "pygments_lexer": "ipython3",
   "version": "3.11.5"
  }
 },
 "nbformat": 4,
 "nbformat_minor": 2
}
