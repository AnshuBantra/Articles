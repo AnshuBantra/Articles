{
 "cells": [
  {
   "cell_type": "markdown",
   "metadata": {},
   "source": [
    "# Mastering Python's Lambda, Map, Filter and Zip Functions: A Comprehensive Exploration"
   ]
  },
  {
   "cell_type": "markdown",
   "metadata": {},
   "source": [
    "## Introduction:\n",
    "Python is renowned for its simplicity & versatility and offers a powerful toolkit for data manipulation and transformation. Among the plethora of tools at your disposal, four functions stand out for their elegance and efficiency: Lambda, Map, Filter, and Zip. In this comprehensive guide, we'll delve deep into these functions, exploring their nuances, diverse applications, capabilities, use cases, and practical examples, and explore how they empower Python programmers to wield data with finesse."
   ]
  },
  {
   "cell_type": "markdown",
   "metadata": {},
   "source": [
    "<img src=\"Lambda_Map_Filter__Zip_in_Python.png\">"
   ]
  },
  {
   "cell_type": "code",
   "execution_count": null,
   "metadata": {},
   "outputs": [],
   "source": []
  },
  {
   "cell_type": "markdown",
   "metadata": {},
   "source": [
    "## Understanding Lambda Functions:\n",
    "Lambda functions are also known as anonymous functions. Lamdba functions offer a concise syntax for defining small, one-off functions without the need for formal function definitions. They find extensive use in situations where a short, disposable function is required, often in conjunction with other functional programming constructs.\n",
    "\n",
    "### Syntax\n",
    "`lambda arguments: expression`\n",
    "\n",
    "### Key Aspects of Lambda Functions:\n",
    "<li> <B>Concise Syntax:</B> Lambda functions condense function definitions into a single line, enhancing code readability and brevity.\n",
    "<li> <B>Functional Composition:</B> They seamlessly integrate with higher-order functions like `map()` and `filter()`, enabling functional programming idioms.\n",
    "<li> <B>Contextual Scope:</B> Lambda functions capture their surrounding scope, allowing access to variables defined outside the lambda expression."
   ]
  },
  {
   "cell_type": "code",
   "execution_count": 15,
   "metadata": {},
   "outputs": [
    {
     "name": "stdout",
     "output_type": "stream",
     "text": [
      "Using regular function: 7\n",
      "using lambda function 7\n"
     ]
    }
   ],
   "source": [
    "# Example 1 - Simple Function to add two numbers\n",
    "\n",
    "# Regular Funtion to Add Two Numbers\n",
    "\n",
    "def regular_add(x, y):\n",
    "    return x + y\n",
    "\n",
    "print( f\"Using regular function: {regular_add(3, 4)}\" )\n",
    "\n",
    "# Lambda Function to Add Two Numbers\n",
    "\n",
    "lambda_add = lambda x, y: x + y\n",
    "print( f\"using lambda function {lambda_add(3, 4)}\" )"
   ]
  },
  {
   "cell_type": "code",
   "execution_count": 17,
   "metadata": {},
   "outputs": [
    {
     "name": "stdout",
     "output_type": "stream",
     "text": [
      "{'grapes': 100, 'banana': 36, 'apple': 20, 'orange': 12, 'watermelon': 1}\n",
      "[('Bob', 25), ('Alice', 30), ('Charlie', 35)]\n"
     ]
    }
   ],
   "source": [
    "# Example_2 - Sort Dictionary or List of Tuples on Value\n",
    "\n",
    "# Sorting Dictionary\n",
    "fruit_dict = {'apple':20, 'orange':12, 'banana':36, 'watermelon':1, 'grapes':100}\n",
    "sorted_dict = dict(sorted(fruit_dict.items(), key=lambda x: x[1], reverse=True))\n",
    "print(sorted_dict)\n",
    "# Output:  {'grapes': 100, 'banana': 36, 'apple': 20, 'orange': 12, 'watermelon': 1}\n",
    "\n",
    "# Sorting List of Tuples\n",
    "data = [('Alice', 30), ('Bob', 25), ('Charlie', 35)]\n",
    "sorted_data = sorted(data, key=lambda x: x[1])\n",
    "print(sorted_data)\n",
    "# Output: [('Bob', 25), ('Alice', 30), ('Charlie', 35)]"
   ]
  },
  {
   "cell_type": "code",
   "execution_count": 1,
   "metadata": {},
   "outputs": [
    {
     "name": "stdout",
     "output_type": "stream",
     "text": [
      "[('Diana', {'projects': 6, 'skills': ['Python', 'AI', 'Cloud Computing']}),\n",
      " ('Alice', {'projects': 5, 'skills': ['Python', 'AI', 'Data Science']}),\n",
      " ('Charlie', {'projects': 7, 'skills': ['Python', 'Machine Learning']}),\n",
      " ('Bob', {'projects': 3, 'skills': ['JavaScript', 'Web Dev']})]\n"
     ]
    }
   ],
   "source": [
    "# Example_3 - Sort a Dictionary of Dictionaries based on multiple conditions\n",
    "\"\"\"\n",
    "  Sorting data based on total number of skills and total projects handled\n",
    "\"\"\"\n",
    "\n",
    "import pprint as ppt\n",
    "data =  {   \"Alice\":    {\"skills\": [\"Python\", \"AI\", \"Data Science\"], \"projects\": 5},\n",
    "            \"Bob\":      {\"skills\": [\"JavaScript\", \"Web Dev\"], \"projects\": 3},\n",
    "            \"Charlie\":  {\"skills\": [\"Python\", \"Machine Learning\"], \"projects\": 7},\n",
    "            \"Diana\":    {\"skills\": [\"Python\", \"AI\", \"Cloud Computing\"], \"projects\": 6}\n",
    "        }\n",
    "\n",
    "data = sorted(data.items(), key=lambda x: (len(set(x[1]['skills'])), x[1]['projects']), reverse=True)\n",
    "ppt.pprint(data)\n"
   ]
  },
  {
   "cell_type": "markdown",
   "metadata": {},
   "source": [
    "**Key Takeaways:**\n",
    "- Conciseness and Simplicity: Lambda functions are small, unnamed functions defined using the lambda keyword. They are ideal for creating quick, single-use functions without the need for formal function definitions.\n",
    "- Readability and Usability: Lambdas can be used inline with functions like map, filter, reduce, and even within list comprehensions, enhancing the readability of the code when used appropriately.\n",
    "- Immediate Return: Lambda functions return the result of the expression without the need for a return statement, simplifying the function body.\n",
    "- Flexibility: Lambdas fit well into the functional programming paradigm, allowing for more flexible and dynamic coding patterns.\n",
    "- High Order Functions: Can be passed as arguments to higher-order functions that accept other functions as parameters, such as sorted, map, filter, and reduce."
   ]
  },
  {
   "cell_type": "markdown",
   "metadata": {},
   "source": [
    "---"
   ]
  },
  {
   "cell_type": "markdown",
   "metadata": {},
   "source": [
    "### Understanding Map Function:\n",
    "The `map()` function is a built-in Python function that embodies the functional paradigm by applying a specified function to each element of an iterable (i.e. list, tuple, etc.), and returns a map object as a result. This map object can be converted into various iterable types, such as lists, tuples, sets, or another iterable.\n",
    "\n",
    "### General Use of Map\n",
    "    map(function, iterable, *iterables)¶\n",
    "\n",
    "### Key Aspects of Map Function:\n",
    "<li> <B>Function Application:</B> map() succinctly applies a function to each element of an iterable, eliminating the need for explicit loops.\n",
    "<li> <B>Lazy Evaluation:</B> The map object generated by `map()` follows lazy evaluation, meaning it computes each result only when accessed, optimizing memory usage.\n",
    "<li> <B>Versatility:</B> It accommodates any function that operates on individual elements, from basic arithmetic operations to complex transformations.\n",
    "\n",
    "### Practical Example:\n",
    "Consider a scenario where we have a list of temperatures in Fahrenheit and a user-defined function that converts a numeric Fahrenheit value to Celsius. However, why the function has been defined it only accepts one value in Fahrenheit and converts it into Celsius. If we wish to convert the whole list of them to Celsius, we have two options:\n",
    "- Approach 1: Write a piece of code to loop through each element of this iterable, call the conversion function on value to convert it to Celsius, and write it back to another iterable.\n",
    "- Approach 2: Simply call map() function on the iterable.\n",
    "Let's see how:"
   ]
  },
  {
   "cell_type": "code",
   "execution_count": 5,
   "metadata": {},
   "outputs": [],
   "source": [
    "# Define a function to convert Fahrenheit to Celsius\n",
    "def fahrenheit_to_celsius(fahrenheit: float) -> float:\n",
    "    \"\"\"\n",
    "    Convert temperature from Fahrenheit to Celsius.\n",
    "\n",
    "    Parameters:\n",
    "        fahrenheit (float): Temperature in degrees Fahrenheit.\n",
    "\n",
    "    Returns:\n",
    "        float: Temperature in degrees Celsius.\n",
    "    \n",
    "    Examples:\n",
    "    >>> fahrenheit_to_celsius(32)\n",
    "    0.0\n",
    "    >>> fahrenheit_to_celsius(212)\n",
    "    100.0\n",
    "    \"\"\"\n",
    "    celsius = (fahrenheit - 32) * 5.0 / 9.0\n",
    "    return celsius\n",
    "\n",
    "# List of temperatures in Fahrenheit\n",
    "temperatures_fahrenheit = [32, 68, 86, 104]"
   ]
  },
  {
   "cell_type": "code",
   "execution_count": null,
   "metadata": {},
   "outputs": [
    {
     "name": "stdout",
     "output_type": "stream",
     "text": [
      "[0.0, 20.0, 30.0, 40.0]\n"
     ]
    }
   ],
   "source": [
    "# Approach 1\n",
    "\n",
    "# Declare a iterable to hold new / converted values (list in this case)\n",
    "temperatures_celsius = []\n",
    "\n",
    "# Write a loop to get each value form the iterable and apply function on it to convert it and write to the list\n",
    "for value in temperatures_fahrenheit:\n",
    "    temperatures_celsius.append( fahrenheit_to_celsius(value) )\n",
    "\n",
    "# Print the converted values\n",
    "print(temperatures_celsius)"
   ]
  },
  {
   "cell_type": "code",
   "execution_count": null,
   "metadata": {},
   "outputs": [
    {
     "name": "stdout",
     "output_type": "stream",
     "text": [
      "[0.0, 20.0, 30.0, 40.0]\n"
     ]
    }
   ],
   "source": [
    "#Approach 2 - Using MAP\n",
    "\n",
    "# Apply the conversion function using map()\n",
    "temperatures_celsius = map(fahrenheit_to_celsius, temperatures_fahrenheit)\n",
    "\n",
    "# Convert the map object to a list\n",
    "temperatures_celsius_list = list(temperatures_celsius)\n",
    "\n",
    "# Print the converted values\n",
    "print(temperatures_celsius_list)"
   ]
  },
  {
   "cell_type": "markdown",
   "metadata": {},
   "source": [
    "#### Benefits of using Map over Loop\n",
    "- map() is generally faster when working with large collections, as it leverages the C-based implementation of the underlying function. ...\n",
    "- for loops are typically slower because they involve the interpreter executing the loop statement for each iteration."
   ]
  },
  {
   "cell_type": "code",
   "execution_count": 54,
   "metadata": {},
   "outputs": [
    {
     "name": "stdout",
     "output_type": "stream",
     "text": [
      "[0, 1, 4, 9, 16, 25, 36, 49, 64, 81]\n"
     ]
    }
   ],
   "source": [
    "# Example_1 Map & Lambda\n",
    "\n",
    "numbers = list(range(10))\n",
    "squared = list(map(lambda x: x * x, numbers)) # Where lanbda is Function and numbers is the iterable\n",
    "print(squared)"
   ]
  },
  {
   "cell_type": "code",
   "execution_count": 57,
   "metadata": {},
   "outputs": [
    {
     "name": "stdout",
     "output_type": "stream",
     "text": [
      "[('Alice', 'Pass'), ('Bob', 'Pass'), ('Charlie', 'Pass'), ('Dud', 'Fail')]\n"
     ]
    }
   ],
   "source": [
    "# Example_2 Map & Lambda\n",
    "\n",
    "data = [(\"Alice\", 88), (\"Bob\", 72), (\"Charlie\", 95), ('Dud', 23)]\n",
    "grade_status = list(map(lambda x: (x[0], \"Pass\" if x[1] >= 50 else \"Fail\"), data))\n",
    "print(grade_status)"
   ]
  },
  {
   "cell_type": "code",
   "execution_count": 60,
   "metadata": {},
   "outputs": [
    {
     "data": {
      "text/html": [
       "<div>\n",
       "<style scoped>\n",
       "    .dataframe tbody tr th:only-of-type {\n",
       "        vertical-align: middle;\n",
       "    }\n",
       "\n",
       "    .dataframe tbody tr th {\n",
       "        vertical-align: top;\n",
       "    }\n",
       "\n",
       "    .dataframe thead th {\n",
       "        text-align: right;\n",
       "    }\n",
       "</style>\n",
       "<table border=\"1\" class=\"dataframe\">\n",
       "  <thead>\n",
       "    <tr style=\"text-align: right;\">\n",
       "      <th></th>\n",
       "      <th>Name</th>\n",
       "      <th>Department</th>\n",
       "      <th>Salary</th>\n",
       "      <th>Tax</th>\n",
       "    </tr>\n",
       "  </thead>\n",
       "  <tbody>\n",
       "    <tr>\n",
       "      <th>0</th>\n",
       "      <td>Alice</td>\n",
       "      <td>HR</td>\n",
       "      <td>50000</td>\n",
       "      <td>7500.0</td>\n",
       "    </tr>\n",
       "    <tr>\n",
       "      <th>1</th>\n",
       "      <td>Bob</td>\n",
       "      <td>Engineering</td>\n",
       "      <td>60000</td>\n",
       "      <td>9000.0</td>\n",
       "    </tr>\n",
       "    <tr>\n",
       "      <th>2</th>\n",
       "      <td>Charlie</td>\n",
       "      <td>Marketing</td>\n",
       "      <td>55000</td>\n",
       "      <td>8250.0</td>\n",
       "    </tr>\n",
       "    <tr>\n",
       "      <th>3</th>\n",
       "      <td>Diana</td>\n",
       "      <td>Sales</td>\n",
       "      <td>45000</td>\n",
       "      <td>6750.0</td>\n",
       "    </tr>\n",
       "    <tr>\n",
       "      <th>4</th>\n",
       "      <td>Eve</td>\n",
       "      <td>Finance</td>\n",
       "      <td>70000</td>\n",
       "      <td>10500.0</td>\n",
       "    </tr>\n",
       "  </tbody>\n",
       "</table>\n",
       "</div>"
      ],
      "text/plain": [
       "      Name   Department  Salary      Tax\n",
       "0    Alice           HR   50000   7500.0\n",
       "1      Bob  Engineering   60000   9000.0\n",
       "2  Charlie    Marketing   55000   8250.0\n",
       "3    Diana        Sales   45000   6750.0\n",
       "4      Eve      Finance   70000  10500.0"
      ]
     },
     "execution_count": 60,
     "metadata": {},
     "output_type": "execute_result"
    }
   ],
   "source": [
    "# Example_3 Map & Lambda\n",
    "\n",
    "import pandas as pd\n",
    "\n",
    "df = pd.DataFrame(\n",
    "    {   \"Name\": [\"Alice\", \"Bob\", \"Charlie\", \"Diana\", \"Eve\"],\n",
    "        \"Department\": [\"HR\", \"Engineering\", \"Marketing\", \"Sales\", \"Finance\"],\n",
    "        \"Salary\": [50000, 60000, 55000, 45000, 70000]\n",
    "    }\n",
    ")\n",
    "\n",
    "# Applying Map & lambda to calculate tax and add it to DataFrame as a column\n",
    "df[\"Tax\"] = df[\"Salary\"].map(lambda x: x*0.15)\n",
    "df\n"
   ]
  },
  {
   "cell_type": "markdown",
   "metadata": {},
   "source": [
    "The combination of 'map' and 'lambda' in Python is a powerful toolset that enhances the flexibility and conciseness of your code, taking programming possibilities to a whole new level. Here's a more detailed look at why this is the case:\n",
    "\n",
    "**The Power of 'map 'and 'lambda'**\n",
    "- **Efficiency and Conciseness:** The 'map' function applies a given function to all items in an iterable and returns an iterator that produces the results. This makes it possible to transform data efficiently without writing explicit loops. 'lambda' provides anonymous, inline functions that can be defined in a single line. This combination is particularly useful for short, throwaway functions that you don't want to define with a full def block.\n",
    "- **Functional Programming Paradigm:** Python's 'map' and 'lambda' embrace the functional programming paradigm, which emphasizes the use of functions to transform data. This approach can lead to more readable and maintainable code, especially when dealing with transformations and data processing.\n",
    "- **Flexible and Dynamic Code:** Using 'lambda' with 'map' allows you to write more flexible and dynamic code. You can create small, specific functions on the fly and apply them across datasets without having to define and name separate functions.\n",
    "\n",
    "---"
   ]
  },
  {
   "cell_type": "markdown",
   "metadata": {},
   "source": [
    "## Understanding Filter Function:"
   ]
  },
  {
   "cell_type": "markdown",
   "metadata": {},
   "source": [
    "The filter function in Python is a built-in function that constructs an `iterator` from elements of an `iterable` (like a list, tuple, or string) for which a function returns true. In simpler terms, it filters elements of an `iterable` based on a condition defined in code.\n",
    "\n",
    "**How filter Works:**\n",
    "- Function: A function that tests each element in the iterable. It should return True for elements to keep and False for elements to discard.\n",
    "- Iterable: The collection of elements you want to filter, such as a list, tuple, or string.\n",
    "\n",
    "**Benefits:**\n",
    "- Selective Processing: Allows you to filter elements that meet certain criteria.\n",
    "- Efficiency: Only processes elements that pass the condition.\n",
    "\n",
    "**Syntax**\n",
    "`filter(function, iterable)`\n",
    "\n",
    "**Practical Applications:**\n",
    "- Filtering Data: Extracting specific data points from a dataset.\n",
    "- Data Cleaning: Removing invalid or unwanted entries from a list.\n",
    "- Conditional Selection: Selecting elements that meet specific criteria."
   ]
  },
  {
   "cell_type": "code",
   "execution_count": null,
   "metadata": {},
   "outputs": [
    {
     "name": "stdout",
     "output_type": "stream",
     "text": [
      "[2, 4, 6]\n"
     ]
    }
   ],
   "source": [
    "# Example_1 Filter with Regular Function\n",
    "\n",
    "# List of numbers\n",
    "numbers = [1, 2, 3, 4, 5, 6]\n",
    "\n",
    "# Function to check if a number is even\n",
    "def is_even(x):\n",
    "    return x % 2 == 0\n",
    "\n",
    "even_numbers = filter(is_even, numbers)\n",
    "print(list(even_numbers))"
   ]
  },
  {
   "cell_type": "code",
   "execution_count": null,
   "metadata": {},
   "outputs": [
    {
     "name": "stdout",
     "output_type": "stream",
     "text": [
      "[2, 4, 6]\n"
     ]
    }
   ],
   "source": [
    "# Example_2 Filter with Lambda Function\n",
    "\n",
    "# List of numbers\n",
    "numbers = [1, 2, 3, 4, 5, 6]\n",
    "\n",
    "# Using filter with a lambda function\n",
    "even_numbers = filter(lambda x: x % 2 == 0, numbers)\n",
    "print(list(even_numbers))"
   ]
  },
  {
   "cell_type": "markdown",
   "metadata": {},
   "source": [
    "**Filter Key Points:**\n",
    "- Returns an Iterator: The `filter` function returns an iterator. You often convert it to a list or another iterable type using list(), tuple(), or similar functions.\n",
    "- Function Requirement: The first argument must be a function that takes one argument and returns a boolean value.\n",
    "\n",
    "The `filter` function is a powerful tool for efficiently processing and manipulating data collections based on specific conditions. If you have more questions or need further examples, feel free to ask!\n",
    "\n",
    "___"
   ]
  },
  {
   "cell_type": "markdown",
   "metadata": {},
   "source": [
    "## Understanding Zip Function:\n",
    "The `zip()` function serves as Python's swiss-army knife for combining multiple iterables element-wise, producing an iterator of tuples. It takes iterables as input and returns an iterator of tuples where the i-th tuple contains the i-th element from each of the input iterables. Each tuple aggregates corresponding elements from the input iterables, facilitating parallel processing and data alignment.\n",
    "\n",
    "### Key Aspects of Zip Function:\n",
    "<li> <B>Element Pairing:</B> `zip()` pairs elements from multiple iterables based on their respective positions, effectively synchronizing disparate data sources.\n",
    "<li> <B>Unequal Length Handling:</B> When iterables are of unequal lengths, `zip()` truncates the result to the shortest length, preventing data loss or misalignment.\n",
    "<li> <B>Parallel Processing:</B> It enables simultaneous access to elements from different sequences, promoting efficient data processing in parallel.\n",
    "\n",
    "Practical Example:\n",
    "Suppose we have lists of names and ages, and we want to create a combined iterator of names & ages without using zip():"
   ]
  },
  {
   "cell_type": "code",
   "execution_count": 68,
   "metadata": {},
   "outputs": [
    {
     "data": {
      "text/plain": [
       "[('Alice', 30), ('Bob', 25), ('Charlie', 35)]"
      ]
     },
     "execution_count": 68,
     "metadata": {},
     "output_type": "execute_result"
    }
   ],
   "source": [
    "# Example_1 Combining Lists without ZIP\n",
    "\n",
    "# Lists of names and ages\n",
    "names = ['Alice', 'Bob', 'Charlie']\n",
    "ages = [30, 25, 35]\n",
    "\n",
    "combined_lst = []\n",
    "for idx in range(len(names)):\n",
    "    combined_lst.append( (names[idx], ages[idx] ) )\n",
    "\n",
    "combined_lst"
   ]
  },
  {
   "cell_type": "markdown",
   "metadata": {},
   "source": [
    "Now, let's do the same creating various iterators using zip() function"
   ]
  },
  {
   "cell_type": "code",
   "execution_count": null,
   "metadata": {},
   "outputs": [
    {
     "name": "stdout",
     "output_type": "stream",
     "text": [
      "{'Alice': 30, 'Bob': 25, 'Charlie': 35}\n",
      "[('Alice', 30), ('Bob', 25), ('Charlie', 35)]\n",
      "(('Alice', 30), ('Bob', 25), ('Charlie', 35))\n"
     ]
    }
   ],
   "source": [
    "# Example_2 Combining iterables into Dictionary / List / Tuple using ZIP\n",
    "\n",
    "# Create a dictionary mapping names to ages using zip()\n",
    "name_age_dict = dict(zip(names, ages))\n",
    "print(name_age_dict)\n",
    "# Output: {'Alice': 30, 'Bob': 25, 'Charlie': 35}\n",
    "\n",
    "# Create a list of tuples mapping names to ages using zip()\n",
    "name_age_list = list(zip(names, ages))\n",
    "print(name_age_list)\n",
    "# Output: [('Alice', 30), ('Bob', 25), ('Charlie', 35)]\n",
    "\n",
    "# Create a tuple of tuples mapping names to ages using zip()\n",
    "name_age_tup = tuple(zip(names, ages))\n",
    "print(name_age_tup)\n",
    "# Output: (('Alice', 30), ('Bob', 25), ('Charlie', 35))"
   ]
  },
  {
   "cell_type": "code",
   "execution_count": 73,
   "metadata": {},
   "outputs": [
    {
     "name": "stdout",
     "output_type": "stream",
     "text": [
      "[('Alice', 25, 'New York'), ('Bob', 30, 'Los Angeles'), ('Charlie', 22, 'Chicago'), ('Diana', 28, 'Houston')]\n"
     ]
    }
   ],
   "source": [
    "# Example_3 Combining more than 2 iterables using ZIP\n",
    "\n",
    "# Lists of data\n",
    "names = [\"Alice\", \"Bob\", \"Charlie\", \"Diana\"]\n",
    "ages = [25, 30, 22, 28]\n",
    "cities = [\"New York\", \"Los Angeles\", \"Chicago\", \"Houston\"]\n",
    "\n",
    "# Use zip to combine the lists\n",
    "combined_data = list(zip(names, ages, cities))\n",
    "\n",
    "print(combined_data)"
   ]
  },
  {
   "cell_type": "code",
   "execution_count": 72,
   "metadata": {},
   "outputs": [
    {
     "name": "stdout",
     "output_type": "stream",
     "text": [
      "{'Name': 'Alice', 'Age': 25, 'City': 'New York'}\n",
      "{'Name': 'Bob', 'Age': 30, 'City': 'Los Angeles'}\n",
      "{'Name': 'Charlie', 'Age': 22, 'City': 'Chicago'}\n",
      "{'Name': 'Diana', 'Age': 28, 'City': 'Houston'}\n"
     ]
    }
   ],
   "source": [
    "# Example_3 Combining more than 2 iterables using ZIP\n",
    "\n",
    "# Lists of data\n",
    "names = [\"Alice\", \"Bob\", \"Charlie\", \"Diana\"]\n",
    "ages = [25, 30, 22, 28]\n",
    "cities = [\"New York\", \"Los Angeles\", \"Chicago\", \"Houston\"]\n",
    "\n",
    "people = [{\"Name\": name, \"Age\": age, \"City\": city} for name, age, city in list(zip(names, ages, cities))]\n",
    "\n",
    "# Print the result\n",
    "for person in people:\n",
    "    print(person)"
   ]
  },
  {
   "cell_type": "markdown",
   "metadata": {},
   "source": [
    "**Key Takeaways:**\n",
    "- **Parallel Iteration:** zip allows you to iterate over multiple iterables in parallel, making it easier to process related data.\n",
    "- **Creating Complex Structures:** You can use zip to combine simple data structures into more complex/useful ones, such as lists of tuples or dictionaries.\n",
    "- **Readability and Efficiency:** Using zip can make your code more readable and efficient by reducing the need for explicit indexing.\n",
    "\n",
    "The zip function is a versatile and powerful tool in Python that can simplify many data manipulation tasks."
   ]
  },
  {
   "cell_type": "markdown",
   "metadata": {},
   "source": [
    "## Conclusion:\n",
    "Lambda, Map, Filter, and Zip functions represent indispensable tools in Python's functional programming arsenal, each offering unique capabilities and fostering a paradigm shift in data manipulation. By mastering these functions, Python programmers unlock a world of possibilities for succinct, elegant, and efficient data processing, propelling their coding prowess to new heights.\n",
    "By integrating these functions into your coding practice, you can write more elegant and sophisticated Python code. They not only reduce boilerplate but also enhance the clarity and intention behind your operations. Whether you're manipulating data, creating efficient pipelines, or just looking to sharpen your Python skills, these functions are invaluable tools in your programming arsenal.\n",
    "Harnessing the power of lambda, map, filter, and zip will elevate your coding efficiency and effectiveness, transforming how you approach and solve complex problems. As you continue to explore and apply these functions, you'll uncover new dimensions of Python programming, making your code more dynamic, functional, and robust. Happy coding!"
   ]
  },
  {
   "cell_type": "markdown",
   "metadata": {},
   "source": []
  }
 ],
 "metadata": {
  "kernelspec": {
   "display_name": "env",
   "language": "python",
   "name": "python3"
  },
  "language_info": {
   "codemirror_mode": {
    "name": "ipython",
    "version": 3
   },
   "file_extension": ".py",
   "mimetype": "text/x-python",
   "name": "python",
   "nbconvert_exporter": "python",
   "pygments_lexer": "ipython3",
   "version": "3.13.0"
  }
 },
 "nbformat": 4,
 "nbformat_minor": 2
}
