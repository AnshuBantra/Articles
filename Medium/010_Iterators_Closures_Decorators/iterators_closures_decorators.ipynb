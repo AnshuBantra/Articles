{
 "cells": [
  {
   "cell_type": "markdown",
   "id": "8c379cd8",
   "metadata": {},
   "source": [
    "# 🧠 Iterators, Function Copying, Closures & Decorators, in Python - Explained Like You're Chatting Over Coffee"
   ]
  },
  {
   "cell_type": "markdown",
   "id": "f9be70d1",
   "metadata": {},
   "source": [
    "If you've ever found yourself scratching your head while trying to wrap your brain around iterators, closures, decorators, or why Python lets you pass functions around like trading cards, you're not alone.\n",
    "These concepts are cornerstones of Python's flexibility. They can seem mysterious at first, but once you get them, you'll feel like you've unlocked a new superpower.\n",
    "In this article, we'll demystify:\n",
    "\n",
    "- ✅ What closures are?\n",
    "- ✅ How function copying works!!!\n",
    "- ✅ How decorators work under the hood!!!"
   ]
  },
  {
   "cell_type": "markdown",
   "id": "22ab903e",
   "metadata": {
    "jp-MarkdownHeadingCollapsed": true
   },
   "source": [
    "## 📦 First up: Functions are first-class citizens in Python"
   ]
  },
  {
   "cell_type": "markdown",
   "id": "bf068062",
   "metadata": {},
   "source": [
    "In Python, functions are first-class citizens, meaning they can be assigned to variables, passed as arguments, and even returned from other functions.\n",
    "- Yep, just like strings, integers, or lists, if we look at the code below."
   ]
  },
  {
   "cell_type": "code",
   "execution_count": 2,
   "id": "824bc6fc",
   "metadata": {},
   "outputs": [
    {
     "name": "stdout",
     "output_type": "stream",
     "text": [
      "Hello, Anshu!\n"
     ]
    }
   ],
   "source": [
    "def greet(name):\n",
    " return f'Hello, {name}!'\n",
    "\n",
    "say_hello = greet  \n",
    "'''\n",
    " - Assigning the function name 'greet' to a variable 'say_hello'\n",
    " - Note no parentheses () at the end of the function name\n",
    "'''\n",
    "\n",
    "print(say_hello('Anshu'))"
   ]
  },
  {
   "cell_type": "markdown",
   "id": "5a9ed2ba-d727-47f7-9dcc-86d372398ce9",
   "metadata": {},
   "source": [
    "What just happened here? We actually didn't \"**copy**\" the function, but rather **created another reference** to the same object."
   ]
  },
  {
   "cell_type": "code",
   "execution_count": 3,
   "id": "90472715-c9db-46db-acee-60d09ba764af",
   "metadata": {},
   "outputs": [
    {
     "name": "stdout",
     "output_type": "stream",
     "text": [
      "True\n"
     ]
    }
   ],
   "source": [
    "print(greet is say_hello)       # True"
   ]
  },
  {
   "cell_type": "markdown",
   "id": "48d2f38e-3309-436a-86e7-5e5fc3f98096",
   "metadata": {},
   "source": [
    "Python functions are objects. Assigning a function to another variable doesn't duplicate it - it just references the same object in memory.\n",
    "\n",
    "#### 📋 When Would You Want to Copy a Function?\n",
    "- You want to modify a copy without affecting the original (e.g., for monkey-patching or decorators).\n",
    "- You need to clone behavior across modules or test environments.\n",
    "- You're dynamically generating or modifying functions.\n",
    "\n",
    "#### Types Copy Example\n",
    "If you really need to copy a function:"
   ]
  },
  {
   "cell_type": "code",
   "execution_count": 21,
   "id": "73790b85-d4c6-4112-8599-b954f3256a9b",
   "metadata": {},
   "outputs": [
    {
     "name": "stdout",
     "output_type": "stream",
     "text": [
      "Hi Anshu\n",
      "clone is greet = False\n"
     ]
    }
   ],
   "source": [
    "import types\n",
    "\n",
    "def greet(name):\n",
    "    return f\"Hi {name}\"\n",
    "\n",
    "clone = types.FunctionType(\n",
    "    greet.__code__, \n",
    "    greet.__globals__, \n",
    "    name=greet.__name__, \n",
    "    argdefs=greet.__defaults__, \n",
    "    closure=greet.__closure__\n",
    ")\n",
    "\n",
    "print(clone(\"Anshu\"))  # Hi Anshu\n",
    "print(f'{clone is greet = }')   # clone is greet = False"
   ]
  },
  {
   "cell_type": "markdown",
   "id": "c9e94422-a821-4d33-be51-b42461050477",
   "metadata": {},
   "source": [
    "#### 🧠 What's happening here?\n",
    "\n",
    "| Parameter | What it Represents |\n",
    "|:---------:|:------------------:|\n",
    "| _ _ code_ _ | The compiled bytecode |\n",
    "| _ _ globals_ _ |\tGlobal variables accessible to the function |\n",
    "| _ _ name_ _ | Name of the function |\n",
    "| _ _ defaults_ _ | Default arguments |\n",
    "| _ _ closure_ _ | For closures (inner function referencing outer vars) |"
   ]
  },
  {
   "cell_type": "markdown",
   "id": "a23dbc83-3bcc-4d82-9d00-c7b66615624c",
   "metadata": {},
   "source": [
    "#### 🏁 Summary\n",
    "- Functions in Python are objects - copying them means dealing with references.\n",
    "- You can use types.FunctionType to create a shallow copy.\n",
    "- Full deep copies are rare and usually unnecessary.\n",
    "- When in doubt, prefer clean redefinition or wrapping over copying."
   ]
  },
  {
   "cell_type": "markdown",
   "id": "4c6f42aa-b6a2-4a52-a66f-c93d956033a6",
   "metadata": {},
   "source": [
    "----"
   ]
  },
  {
   "cell_type": "markdown",
   "id": "8ad04a9d-4b69-4873-b9a9-d542031086e4",
   "metadata": {
    "jp-MarkdownHeadingCollapsed": true
   },
   "source": [
    "# 🔐 Closures: Functions with Memory"
   ]
  },
  {
   "cell_type": "markdown",
   "id": "f7f4e950-2c73-4517-a274-0fd758efc032",
   "metadata": {
    "jp-MarkdownHeadingCollapsed": true
   },
   "source": [
    "Imagine you\\'re at your favorite coffee shop. You order your usual - an Espresso Macchiato. The barista remembers your order and smiles: \"The usual?\" That memory is exactly what a closure is.\n",
    "\n",
    "A **closure** is a function object that \"remembers\" the variables/values from the enclosing scope where it was created, even after that scope has finished execution / is no longer available.\n",
    "\n",
    "#### Core Concepts of Closures\n",
    "- Nested Function: A closure always involves a function defined inside another function.\n",
    "- Free Variables: The inner function refers to variables from the outer function.\n",
    "- Returning Functions: The outer function returns the inner function.\n",
    "- State Preservation: The returned function \"remembers\" the environment in which it was created."
   ]
  },
  {
   "cell_type": "code",
   "execution_count": 5,
   "id": "2e32b582",
   "metadata": {},
   "outputs": [
    {
     "name": "stdout",
     "output_type": "stream",
     "text": [
      "10\n",
      "15\n"
     ]
    }
   ],
   "source": [
    "def make_multiplier(factor):    # Outer Function\n",
    "    def multiply(number):       # Inner Function \n",
    "        return number * factor  # 'factor' from outer function is remembered\n",
    "    return multiply             # Inner function being returned \n",
    "\n",
    "double = make_multiplier(2)     # double is multiply function with factor==>2\n",
    "triple = make_multiplier(3)     # triple is multiply function with factor==>3\n",
    "\n",
    "print(double(5))  # 10          # returns 10 as number==>5 * factor==> 2 = 10\n",
    "print(triple(5))  # 15          # returns 15 as number==>5 * factor==> 3 = 15"
   ]
  },
  {
   "cell_type": "markdown",
   "id": "8fbe3525-f645-406d-a500-fc9930bfe42a",
   "metadata": {},
   "source": [
    "The key concept here is a **closure**. Even though the `make_multiplier` function has *finished executing*, the returned `multiply function` which still remembers the value of factor from its enclosing scope, that was active at the time of creation, even after the outer function has finished executing.\n",
    "\n",
    "So `double` remembers `factor = 2`, and `triple` remembers `factor = 3`.\n",
    "\n",
    "That's a *closure*. A function with an inner function that captures variables from the outer function.\n",
    "\n",
    "Still, want proof that `double` actually `closed over` a variable?"
   ]
  },
  {
   "cell_type": "code",
   "execution_count": 6,
   "id": "6b21c650-6b26-4f6b-91b1-40476d14baa3",
   "metadata": {},
   "outputs": [
    {
     "name": "stdout",
     "output_type": "stream",
     "text": [
      "2\n"
     ]
    }
   ],
   "source": [
    "print(double.__closure__[0].cell_contents)  # 2"
   ]
  },
  {
   "cell_type": "markdown",
   "id": "6caedde9-3a22-4970-b511-1493feb7c19d",
   "metadata": {},
   "source": [
    "#### Why Closures Are Useful\n",
    "- Data Encapsulation: Closures provide a way to hide data from the global scope while still making it accessible to specific functions.\n",
    "- Creating Function Factories: As shown in your original example, closures enable creating customized functions.\n",
    "- Implementing Decorators: Closures are fundamental to Python decorators (More on this in next section)."
   ]
  },
  {
   "cell_type": "markdown",
   "id": "e2ccbd55-20c6-4d71-9c76-a978f56cf368",
   "metadata": {},
   "source": [
    "# 🎁 Decorators: Fancy Closures That Wrap Functions"
   ]
  },
  {
   "cell_type": "markdown",
   "id": "ee8aa7e4-55b3-4d8f-9176-5e302163ade8",
   "metadata": {},
   "source": [
    "Now that we know what closures are, decorators will feel like a natural extension. **`Decorators`** are a powerful feature in Python that allow you to modify the behavior of functions or classes without permanently changing their source code. Let's explore them in detail.\n",
    "\n",
    "#### Core Concept\n",
    "A decorator is a function that takes another function as an argument, adds some functionality, and returns another function. All of this without altering the source code of the original function.\n",
    "Think of it like putting a present inside a gift box. The gift (original function) is still there - but now it's wrapped in something new.\n",
    "\n",
    "#### Basic Structure"
   ]
  },
  {
   "cell_type": "code",
   "execution_count": 7,
   "id": "16dbde6b-a39d-4981-809e-f692b57cd85c",
   "metadata": {},
   "outputs": [],
   "source": [
    "def decorator_function(original_function):\n",
    "    def wrapper_function(*args, **kwargs):\n",
    "        # Code to be executed before the original function\n",
    "        result = original_function(*args, **kwargs)\n",
    "        # Code to be executed after the original function\n",
    "        return result\n",
    "    return wrapper_function"
   ]
  },
  {
   "cell_type": "markdown",
   "id": "891a44f2-9628-4321-8661-af911d56b56b",
   "metadata": {},
   "source": [
    "#### Simple Example\n",
    "Here's a basic example of using decorator, that logs when a function is called. Here we use @log_function_call to decorate the greet function to modify the functionality ."
   ]
  },
  {
   "cell_type": "code",
   "execution_count": 8,
   "id": "f50f0e9c-bba9-4fb0-b95c-1cbdbf85dc08",
   "metadata": {},
   "outputs": [
    {
     "name": "stdout",
     "output_type": "stream",
     "text": [
      "Calling function: greet\n",
      "Hello, Anshu!\n",
      "Function greet completed\n"
     ]
    }
   ],
   "source": [
    "def log_function_call(func):\n",
    "    def wrapper(*args, **kwargs):\n",
    "        print(f\"Calling function: {func.__name__}\")\n",
    "        result = func(*args, **kwargs)\n",
    "        print(f\"Function {func.__name__} completed\")\n",
    "        return result\n",
    "    return wrapper\n",
    "\n",
    "@log_function_call\n",
    "def greet(name):\n",
    "    print(f\"Hello, {name}!\")\n",
    "\n",
    "greet(\"Anshu\")"
   ]
  },
  {
   "cell_type": "markdown",
   "id": "bc6a8d76-7c57-46da-8c29-9ba9ea858213",
   "metadata": {},
   "source": [
    "#### The @ Syntax\n",
    "The **`@decorator_name`** syntax is just syntactic sugar. The below two code snippets are equivalent:"
   ]
  },
  {
   "cell_type": "code",
   "execution_count": 29,
   "id": "cf09e22f-d575-4735-943d-02a1753a8f08",
   "metadata": {},
   "outputs": [
    {
     "name": "stdout",
     "output_type": "stream",
     "text": [
      "Calling function: greet\n",
      "Hello, Anshu!\n",
      "Function greet completed\n",
      "----------------\n",
      "Calling function: greet\n",
      "Hello, Anshu!\n",
      "Function greet completed\n"
     ]
    }
   ],
   "source": [
    "# Using @ syntax\n",
    "@log_function_call\n",
    "def greet(name):\n",
    "    print(f\"Hello, {name}!\")\n",
    "\n",
    "greet('Anshu')\n",
    "print('----------------')\n",
    "\n",
    "# Without @ syntax (manual decoration)\n",
    "def greet(name):\n",
    "    print(f\"Hello, {name}!\")\n",
    "greet = log_function_call(greet)\n",
    "greet('Anshu')"
   ]
  },
  {
   "cell_type": "markdown",
   "id": "5e3fefba-aee4-49d0-9bc4-47a55c1393c9",
   "metadata": {},
   "source": [
    "#### Decorators with Arguments\n",
    "You can also create decorators that accept arguments:"
   ]
  },
  {
   "cell_type": "code",
   "execution_count": 10,
   "id": "0ec62f04-f2f9-4d0b-aaee-2e247eb5290b",
   "metadata": {},
   "outputs": [
    {
     "name": "stdout",
     "output_type": "stream",
     "text": [
      "['Hello World', 'Hello World', 'Hello World']\n"
     ]
    }
   ],
   "source": [
    "def repeat(num_times):\n",
    "    def decorator_repeat(func):\n",
    "        def wrapper(*args, **kwargs):\n",
    "            results = []\n",
    "            for _ in range(num_times):\n",
    "                results.append(func(*args, **kwargs))\n",
    "            return results\n",
    "        return wrapper\n",
    "    return decorator_repeat\n",
    "\n",
    "@repeat(3)\n",
    "def say_hello(name):\n",
    "    return f\"Hello {name}\"\n",
    "\n",
    "print(say_hello(\"World\"))"
   ]
  },
  {
   "cell_type": "markdown",
   "id": "ace1a4d5-5d2b-4a0d-beef-5925e4edf742",
   "metadata": {},
   "source": [
    "#### Stacking Decorators\n",
    "You can use multiple decorators for a single function. They are applied from bottom to top:"
   ]
  },
  {
   "cell_type": "code",
   "execution_count": 11,
   "id": "9b0b6e81-559d-49cb-96ed-590ba38bc66e",
   "metadata": {},
   "outputs": [
    {
     "name": "stdout",
     "output_type": "stream",
     "text": [
      "<b><i>Hello</i></b>\n"
     ]
    }
   ],
   "source": [
    "def bold(func):\n",
    "    def wrapper(*args, **kwargs):\n",
    "        return f\"<b>{func(*args, **kwargs)}</b>\"\n",
    "    return wrapper\n",
    "\n",
    "def italic(func):\n",
    "    def wrapper(*args, **kwargs):\n",
    "        return f\"<i>{func(*args, **kwargs)}</i>\"\n",
    "    return wrapper\n",
    "\n",
    "@bold\n",
    "@italic\n",
    "def format_text(text):\n",
    "    return text\n",
    "\n",
    "print(format_text(\"Hello\"))  # <b><i>Hello</i></b>"
   ]
  },
  {
   "cell_type": "markdown",
   "id": "34298f23-5b91-489b-a3db-60008a381af7",
   "metadata": {},
   "source": [
    "#### Preserving Function Metadata\n",
    "When using decorators, metadata of the original function (like name, docstring) gets lost:"
   ]
  },
  {
   "cell_type": "code",
   "execution_count": 12,
   "id": "9feeda08-c78a-4ed5-9072-ce9b55259d18",
   "metadata": {},
   "outputs": [
    {
     "name": "stdout",
     "output_type": "stream",
     "text": [
      "wrapper\n",
      "None\n"
     ]
    }
   ],
   "source": [
    "def my_decorator(func):\n",
    "    def wrapper(*args, **kwargs):\n",
    "        return func(*args, **kwargs)\n",
    "    return wrapper\n",
    "\n",
    "@my_decorator\n",
    "def example():\n",
    "    \"\"\"This is the docstring\"\"\"\n",
    "    pass\n",
    "\n",
    "print(example.__name__)  # Outputs: wrapper (not example)\n",
    "print(example.__doc__)   # Outputs: None (not the docstring)"
   ]
  },
  {
   "cell_type": "markdown",
   "id": "b3c61074-7710-4a60-af62-62f0e7b4f5ec",
   "metadata": {},
   "source": [
    "You can preserve metadata using the functools.wraps decorator:"
   ]
  },
  {
   "cell_type": "code",
   "execution_count": 13,
   "id": "81dce7cd-1072-4bf1-8e45-2d43c733bc4a",
   "metadata": {},
   "outputs": [
    {
     "name": "stdout",
     "output_type": "stream",
     "text": [
      "example\n",
      "This is the docstring\n"
     ]
    }
   ],
   "source": [
    "from functools import wraps\n",
    "\n",
    "def my_decorator(func):\n",
    "    @wraps(func)  # This preserves metadata\n",
    "    def wrapper(*args, **kwargs):\n",
    "        return func(*args, **kwargs)\n",
    "    return wrapper\n",
    "\n",
    "@my_decorator\n",
    "def example():\n",
    "    \"\"\"This is the docstring\"\"\"\n",
    "    pass\n",
    "\n",
    "print(example.__name__)  # Outputs: example\n",
    "print(example.__doc__)   # Outputs: This is the docstring"
   ]
  },
  {
   "cell_type": "markdown",
   "id": "379868db-2fd9-4f6e-98d5-ecf64c9f0e79",
   "metadata": {},
   "source": [
    "### Practical Use Cases\n",
    "1. Timing Functions:"
   ]
  },
  {
   "cell_type": "code",
   "execution_count": 14,
   "id": "76c4ffa9-ef7f-4a73-9e7b-3e2c64baa08d",
   "metadata": {},
   "outputs": [
    {
     "name": "stdout",
     "output_type": "stream",
     "text": [
      "slow_function took 1.00 seconds\n"
     ]
    },
    {
     "data": {
      "text/plain": [
       "'Done'"
      ]
     },
     "execution_count": 14,
     "metadata": {},
     "output_type": "execute_result"
    }
   ],
   "source": [
    "import time\n",
    "from functools import wraps\n",
    "\n",
    "def measure_time(func):\n",
    "    @wraps(func)\n",
    "    def wrapper(*args, **kwargs):\n",
    "        start = time.time()\n",
    "        result = func(*args, **kwargs)\n",
    "        end = time.time()\n",
    "        print(f\"{func.__name__} took {end - start:.2f} seconds\")\n",
    "        return result\n",
    "    return wrapper\n",
    "\n",
    "@measure_time\n",
    "def slow_function():\n",
    "    time.sleep(1)\n",
    "    return \"Done\"\n",
    "\n",
    "slow_function()"
   ]
  },
  {
   "cell_type": "markdown",
   "id": "5c3f00a3-8b31-4a23-9ddd-40d3290e54d8",
   "metadata": {},
   "source": [
    "2. Caching Return Values:"
   ]
  },
  {
   "cell_type": "code",
   "execution_count": 15,
   "id": "f3c8d7b1-8658-4f7b-b980-ad5b6aad4b01",
   "metadata": {},
   "outputs": [],
   "source": [
    "import time\n",
    "from functools import wraps\n",
    "\n",
    "def measure_time(func):\n",
    "    call_depth = 0  # shared state\n",
    "\n",
    "    @wraps(func)\n",
    "    def wrapper(*args, **kwargs):\n",
    "        nonlocal call_depth\n",
    "        is_outermost_call = call_depth == 0\n",
    "\n",
    "        if is_outermost_call:\n",
    "            start = time.time()\n",
    "\n",
    "        call_depth += 1\n",
    "        result = func(*args, **kwargs)\n",
    "        call_depth -= 1\n",
    "\n",
    "        if is_outermost_call:\n",
    "            end = time.time()\n",
    "            print(f\"[Timing] {func.__name__}({args}) took {end - start:.6f} seconds\")\n",
    "\n",
    "        return result\n",
    "\n",
    "    return wrapper\n",
    "    \n",
    "def memoize(func):\n",
    "    cache = {}\n",
    "    @wraps(func)\n",
    "    def wrapper(*args):\n",
    "        if args in cache:\n",
    "            return cache[args]\n",
    "        result = func(*args)\n",
    "        cache[args] = result\n",
    "        return result\n",
    "    return wrapper"
   ]
  },
  {
   "cell_type": "code",
   "execution_count": 16,
   "id": "0bc071db-d868-4341-b6c6-1dbc8d2f1974",
   "metadata": {},
   "outputs": [
    {
     "name": "stdout",
     "output_type": "stream",
     "text": [
      "[Timing] fibonacci((35,)) took 12.750435 seconds\n",
      "9227465\n"
     ]
    }
   ],
   "source": [
    "@measure_time\n",
    "def fibonacci(n):\n",
    "    if n <= 1:\n",
    "        return n\n",
    "    return fibonacci(n - 1) + fibonacci(n - 2)\n",
    "\n",
    "print(fibonacci(35))"
   ]
  },
  {
   "cell_type": "code",
   "execution_count": 17,
   "id": "cd151d70-c0a1-4264-a541-99e610b664d1",
   "metadata": {},
   "outputs": [
    {
     "name": "stdout",
     "output_type": "stream",
     "text": [
      "[Timing] fibonacci((35,)) took 0.001004 seconds\n",
      "9227465\n",
      "[Timing] fibonacci((35,)) took 0.000000 seconds\n",
      "9227465\n"
     ]
    }
   ],
   "source": [
    "@measure_time\n",
    "@memoize\n",
    "def fibonacci(n):\n",
    "    if n <= 1:\n",
    "        return n\n",
    "    return fibonacci(n - 1) + fibonacci(n - 2)\n",
    "\n",
    "print(fibonacci(35))  # Only one timing line!\n",
    "print(fibonacci(35))  # Instant return from cache, no timing printed"
   ]
  },
  {
   "cell_type": "markdown",
   "id": "ec48de80-6a55-4408-9944-b5ed73dfa6e2",
   "metadata": {},
   "source": [
    "## Built-in Decorators\n",
    "### Python has several built-in decorators:\n",
    "- @property: Transforms a method into a getter for a property\n",
    "- @classmethod: Converts a method to a class method\n",
    "- @staticmethod: Converts a method to a static method\n",
    "- @abstractmethod: Indicates that the method must be implemented by subclasses\n",
    "\n",
    "Decorators offer a clean and reusable way to modify or enhance the behavior of functions and classes, making your code more modular and following the DRY (Don't Repeat Yourself) principle."
   ]
  },
  {
   "cell_type": "markdown",
   "id": "08068546",
   "metadata": {},
   "source": [
    "## 🙌 Final Thoughts\n",
    "\n",
    "###We've now covered:\n",
    "✅ Function Copying (deep dive into internals)\n",
    "✅ Closures (functions with memory)\n",
    "✅ Decorators (closures in a fancy outfit)\n",
    "\n",
    "And we did it with real-world metaphors, detailed code, and just the right amount of nerdy charm.\n",
    "Got feedback? Want to go deeper into functools, contextlib, generators, classes? Drop a comment - I'm always up for more Python conversations!\n",
    "\n",
    "- Anshu"
   ]
  }
 ],
 "metadata": {
  "kernelspec": {
   "display_name": "base",
   "language": "python",
   "name": "python3"
  },
  "language_info": {
   "codemirror_mode": {
    "name": "ipython",
    "version": 3
   },
   "file_extension": ".py",
   "mimetype": "text/x-python",
   "name": "python",
   "nbconvert_exporter": "python",
   "pygments_lexer": "ipython3",
   "version": "3.12.7"
  }
 },
 "nbformat": 4,
 "nbformat_minor": 5
}
